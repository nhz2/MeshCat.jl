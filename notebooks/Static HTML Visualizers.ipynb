{
 "cells": [
  {
   "cell_type": "markdown",
   "metadata": {},
   "source": [
    "# Static HTML Visualizers\n",
    "\n",
    "MeshCat is intended to be used interactively, allowing you to update geometries, transforms, properties, and animations and see the results immediately. But this might not always be what you want. For example, you might want to create and animate a scene and then save that result to a file that you can view later without starting Julia. Or you might want to render a MeshCat visualizer through a remote Jupyter service like JuliaBox or NextJournal, in which case direct communication between the Julia code and your browser is more difficult. \n",
    "\n",
    "For situations like these, MeshCat can also provide a *static* rendering of a scene. This static rendering is still fully 3D, and all of the MeshCat mouse controls like zooming, panning, and playing animations will work as normal. The difference is that a static scene has the full description of all the geometries and animations baked in as data, so it can be viewed at any time as long as you have access to a web browser. "
   ]
  },
  {
   "cell_type": "code",
   "execution_count": null,
   "metadata": {},
   "outputs": [],
   "source": [
    "# Optional: \n",
    "# These commands tell the Julia package manager to use the exact\n",
    "# set of dependencies specified in the Project.toml file in this folder. \n",
    "# That should give you a nice, reproducible environment for testing. \n",
    "\n",
    "using Pkg\n",
    "Pkg.activate(@__DIR__)\n",
    "Pkg.develop(Pkg.PackageSpec(path=dirname(@__DIR__)))\n",
    "Pkg.instantiate()"
   ]
  },
  {
   "cell_type": "code",
   "execution_count": null,
   "metadata": {},
   "outputs": [],
   "source": [
    "using MeshCat, GeometryBasics, CoordinateTransformations, Rotations\n",
    "using Colors\n",
    "using LinearAlgebra: I"
   ]
  },
  {
   "cell_type": "markdown",
   "metadata": {},
   "source": [
    "Let's create a new visualizer, add a box geometry, and animate that box. \n",
    "\n",
    "To learn more about animations, see `animation.ipynb`"
   ]
  },
  {
   "cell_type": "code",
   "execution_count": null,
   "metadata": {},
   "outputs": [],
   "source": [
    "vis = Visualizer()\n",
    "setobject!(vis[:box1], Rect(Vec(0.0, 0, 0), Vec(0.1, 0.2, 0.3)))\n",
    "anim = Animation()\n",
    "atframe(anim, 0) do\n",
    "    settransform!(vis[:box1],\n",
    "        Translation(0.0, 0, -1) ∘ LinearMap(RotZ(-π / 2)))\n",
    "end\n",
    "atframe(anim, 30) do\n",
    "    settransform!(vis[:box1],\n",
    "        Translation(0.0, 0, 0) ∘ LinearMap(RotY(π / 2)) ∘ LinearMap(RotZ(π / 2)))\n",
    "end\n",
    "atframe(anim, 60) do\n",
    "    settransform!(vis[:box1],\n",
    "        Translation(0.0, 0, 1))\n",
    "end\n",
    "setanimation!(vis, anim)"
   ]
  },
  {
   "cell_type": "markdown",
   "metadata": {},
   "source": [
    "We can now embed a static version of this visualizer directly into the Jupyter notebook. This visualizer will display correctly even if you don't have Julia installed, and you can even publish this notebook with the visualizer inside it:"
   ]
  },
  {
   "cell_type": "code",
   "execution_count": null,
   "metadata": {},
   "outputs": [],
   "source": [
    "render_static(vis)"
   ]
  },
  {
   "cell_type": "markdown",
   "metadata": {},
   "source": [
    "To replay the animation, click on the \"Open Controls\" menu and click \"play\"."
   ]
  },
  {
   "cell_type": "markdown",
   "metadata": {},
   "source": [
    "## Updating the Scene\n",
    "\n",
    "Since the embedded visualizer is static, if we change the geometry we will not see the result right away. Note how the embedded visualizer doesn't change when we switch the color of the box:"
   ]
  },
  {
   "cell_type": "code",
   "execution_count": null,
   "metadata": {},
   "outputs": [],
   "source": [
    "setobject!(vis[:box1],\n",
    "    Rect(Vec(0.0, 0, 0), Vec(0.1, 0.2, 0.3)),\n",
    "    MeshPhongMaterial(color=colorant\"red\"))"
   ]
  },
  {
   "cell_type": "markdown",
   "metadata": {},
   "source": [
    "To see the change, we can create a new static rendering of the scene:"
   ]
  },
  {
   "cell_type": "code",
   "execution_count": null,
   "metadata": {},
   "outputs": [],
   "source": [
    "render_static(vis)"
   ]
  },
  {
   "cell_type": "markdown",
   "metadata": {},
   "source": [
    "## Saving For Offline Use\n",
    "\n",
    "To save the scene in a self-contained HTML file, you can use the `static_html` function. Let's save the result to a file called `my_scene.html`:"
   ]
  },
  {
   "cell_type": "code",
   "execution_count": null,
   "metadata": {},
   "outputs": [],
   "source": [
    "open(\"my_scene.html\", \"w\") do file\n",
    "    write(file, static_html(vis))\n",
    "end"
   ]
  },
  {
   "cell_type": "markdown",
   "metadata": {},
   "source": [
    "Try opening `my_scene.html` in your browser!"
   ]
  }
 ],
 "metadata": {
  "@webio": {
   "lastCommId": null,
   "lastKernelId": null
  },
  "kernelspec": {
   "display_name": "Julia 1.11.0",
   "language": "julia",
   "name": "julia-1.11"
  },
  "language_info": {
   "file_extension": ".jl",
   "mimetype": "application/julia",
   "name": "julia",
   "version": "1.11.0"
  }
 },
 "nbformat": 4,
 "nbformat_minor": 4
}
